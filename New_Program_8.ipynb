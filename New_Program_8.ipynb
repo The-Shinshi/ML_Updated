{
 "cells": [
  {
   "cell_type": "code",
   "execution_count": null,
   "id": "9dfedc17",
   "metadata": {},
   "outputs": [],
   "source": [
    "import pandas as pd\n",
    "import matplotlib.pyplot as plt\n",
    "from sklearn.model_selection import train_test_split\n",
    "from sklearn.tree import DecisionTreeClassifier, plot_tree\n",
    "from sklearn.metrics import accuracy_score, classification_report\n",
    "\n",
    "# Load the dataset\n",
    "data = pd.read_csv('Datasets/Breast Cancer Dataset.csv')\n",
    "\n",
    "# Data preprocessing\n",
    "df = data.drop(['id'], axis=1)\n",
    "df['diagnosis'] = df['diagnosis'].map({'M': 1, 'B': 0})\n",
    "\n",
    "# Split features and labels\n",
    "X = df.drop(columns=['diagnosis'])\n",
    "y = df['diagnosis']\n",
    "\n",
    "# Split the dataset into training & testing sets\n",
    "X_train, X_test, y_train, y_test = train_test_split(X, y, test_size=0.2, random_state=42)\n",
    "\n",
    "# Train a Decision Tree classifier\n",
    "model = DecisionTreeClassifier(criterion='entropy', max_depth=5, random_state=42)\n",
    "model.fit(X_train, y_train)\n",
    "\n",
    "# Visualizing the Decision Tree\n",
    "plt.figure(figsize=(15, 10))\n",
    "plot_tree(model, filled=True, feature_names=X.columns, class_names=['Benign', 'Malignant'])\n",
    "plt.title(\"Decision Tree Visualization\")\n",
    "plt.show()\n",
    "\n",
    "# Predictions and evaluation\n",
    "y_pred = model.predict(X_test)\n",
    "print(\"Accuracy:\", accuracy_score(y_test, y_pred) * 100)\n",
    "print(\"Classification Report:\\n\", classification_report(y_test, y_pred))\n",
    "\n",
    "# Making a prediction on a new sample\n",
    "new_sample = pd.DataFrame([[12.5, 19.2, 80.0, 500.0, 0.085, 0.1, 0.05, 0.02, 0.17, 0.06,\n",
    "                            0.4, 1.0, 2.5, 40.0, 0.006, 0.02, 0.03, 0.01, 0.02, 0.003,\n",
    "                            16.0, 25.0, 105.0, 900.0, 0.13, 0.25, 0.28, 0.12, 0.29, 0.08]], columns=X.columns)\n",
    "\n",
    "# Predict class of the new sample\n",
    "pred = model.predict(new_sample)\n",
    "print(\"Prediction:\", \"Malignant\" if pred[0] == 1 else \"Benign\")\n"
   ]
  }
 ],
 "metadata": {
  "kernelspec": {
   "display_name": "Python 3",
   "language": "python",
   "name": "python3"
  },
  "language_info": {
   "name": "python",
   "version": "3.12.7"
  }
 },
 "nbformat": 4,
 "nbformat_minor": 5
}
